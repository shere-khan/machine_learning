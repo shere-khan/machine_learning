{
 "cells": [
  {
   "cell_type": "code",
   "execution_count": null,
   "metadata": {
    "collapsed": true
   },
   "outputs": [],
   "source": [
    "# Shape: samples x channels x width x height"
   ]
  },
  {
   "cell_type": "code",
   "execution_count": 16,
   "outputs": [
    {
     "name": "stdout",
     "output_type": "stream",
     "text": [
      "torch.Size([2, 3, 2, 3])\n",
      "tensor([[[[1, 2, 3],\n",
      "          [3, 4, 3]],\n",
      "\n",
      "         [[5, 6, 3],\n",
      "          [7, 8, 3]],\n",
      "\n",
      "         [[5, 6, 3],\n",
      "          [7, 8, 3]]],\n",
      "\n",
      "\n",
      "        [[[1, 2, 3],\n",
      "          [3, 4, 3]],\n",
      "\n",
      "         [[5, 6, 3],\n",
      "          [7, 8, 3]],\n",
      "\n",
      "         [[5, 6, 3],\n",
      "          [7, 8, 3]]]])\n"
     ]
    }
   ],
   "source": [
    "t = torch.tensor([[\n",
    "                   [[1, 2, 3],\n",
    "                    [3, 4, 3]],\n",
    "                   [[5, 6, 3],\n",
    "                    [7, 8, 3]],\n",
    "                   [[5, 6, 3],\n",
    "                    [7, 8, 3]]],\n",
    "                  [[[1, 2, 3],\n",
    "                    [3, 4, 3]],\n",
    "                   [[5, 6, 3],\n",
    "                    [7, 8, 3]],\n",
    "                   [[5, 6, 3],\n",
    "                    [7, 8, 3]]\n",
    "                   ]])\n",
    "print(t.shape)\n",
    "print(t)"
   ],
   "metadata": {
    "collapsed": false
   }
  },
  {
   "cell_type": "code",
   "execution_count": 17,
   "outputs": [
    {
     "data": {
      "text/plain": "tensor([1, 2, 3, 3, 4, 3, 5, 6, 3, 7, 8, 3, 5, 6, 3, 7, 8, 3, 1, 2, 3, 3, 4, 3,\n        5, 6, 3, 7, 8, 3, 5, 6, 3, 7, 8, 3])"
     },
     "execution_count": 17,
     "metadata": {},
     "output_type": "execute_result"
    }
   ],
   "source": [
    "torch.flatten(t)"
   ],
   "metadata": {
    "collapsed": false
   }
  },
  {
   "cell_type": "code",
   "execution_count": 23,
   "outputs": [
    {
     "name": "stdout",
     "output_type": "stream",
     "text": [
      "tensor([[[1, 2, 3, 3, 4, 3],\n",
      "         [5, 6, 3, 7, 8, 3],\n",
      "         [5, 6, 3, 7, 8, 3]],\n",
      "\n",
      "        [[1, 2, 3, 3, 4, 3],\n",
      "         [5, 6, 3, 7, 8, 3],\n",
      "         [5, 6, 3, 7, 8, 3]]])\n",
      "torch.Size([2, 3, 6])\n"
     ]
    }
   ],
   "source": [
    "t_ = torch.flatten(t, start_dim=2)\n",
    "print(t_)\n",
    "print(t_.shape)"
   ],
   "metadata": {
    "collapsed": false
   }
  }
 ],
 "metadata": {
  "kernelspec": {
   "display_name": "Python 3",
   "language": "python",
   "name": "python3"
  },
  "language_info": {
   "codemirror_mode": {
    "name": "ipython",
    "version": 2
   },
   "file_extension": ".py",
   "mimetype": "text/x-python",
   "name": "python",
   "nbconvert_exporter": "python",
   "pygments_lexer": "ipython2",
   "version": "2.7.6"
  }
 },
 "nbformat": 4,
 "nbformat_minor": 0
}
