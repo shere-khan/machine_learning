{
  "nbformat": 4,
  "nbformat_minor": 0,
  "metadata": {
    "colab": {
      "provenance": [],
      "authorship_tag": "ABX9TyNblL5tZ6enux40wur10R5y",
      "include_colab_link": true
    },
    "kernelspec": {
      "name": "python3",
      "display_name": "Python 3"
    },
    "language_info": {
      "name": "python"
    },
    "accelerator": "GPU",
    "gpuClass": "standard"
  },
  "cells": [
    {
      "cell_type": "markdown",
      "metadata": {
        "id": "view-in-github",
        "colab_type": "text"
      },
      "source": [
        "<a href=\"https://colab.research.google.com/github/shere-khan/machine_learning/blob/master/WassersteinGANPytorch.ipynb\" target=\"_parent\"><img src=\"https://colab.research.google.com/assets/colab-badge.svg\" alt=\"Open In Colab\"/></a>"
      ]
    },
    {
      "cell_type": "code",
      "execution_count": null,
      "metadata": {
        "id": "55rr8XKQ2jmO"
      },
      "outputs": [],
      "source": [
        "import torch\n",
        "import torch.nn as nn\n",
        "import torch.optim as optim\n",
        "import torchvision\n",
        "import torchvision.datasets as datasets\n",
        "import torchvision.transforms as transforms\n",
        "from torch.utils.data import DataLoader\n",
        "from tqdm import tqdm\n",
        "from torch.utils.tensorboard import SummaryWriter"
      ]
    },
    {
      "cell_type": "code",
      "source": [
        "device = 'cuda' if torch.cuda.is_available() else 'cpu'\n",
        "LEARNING_RATE = 5e-5\n",
        "BATCH_SIZE = 64\n",
        "IMAGE_SIZE = 64\n",
        "CHANNELS_IMG = 1\n",
        "Z_DIM = 128\n",
        "NUM_EPOCHS = 5\n",
        "FEATURES_CRITIC = 64\n",
        "FEATURES_GEN = 64\n",
        "CRITIC_ITERATIONS = 5\n",
        "WEIGHT_CLIP = .01"
      ],
      "metadata": {
        "id": "lIYsrSP92pOn"
      },
      "execution_count": null,
      "outputs": []
    },
    {
      "cell_type": "markdown",
      "source": [
        "\\begin{align}\n",
        "\\underset{||f||_L \\leq 1}{max}\\:\\mathbb{E}_{x\\sim\\mathbb{P}_r}[f(x)] - \\mathbb{E}_{x\\sim\\mathbb{P}_\\theta}[f(x)]\n",
        "\\end{align}\n",
        "\n",
        "Discriminator wants to separate (maximize), and generator wants to put these closer together (minimize\\)"
      ],
      "metadata": {
        "id": "YbA4IR9o2qLR"
      }
    },
    {
      "cell_type": "code",
      "source": [
        "transforms = transforms.Compose(\n",
        "    [\n",
        "      transforms.Resize(IMAGE_SIZE),\n",
        "      transforms.ToTensor(),\n",
        "      transforms.Normalize(\n",
        "        [.5 for _ in range(CHANNELS_IMG)],\n",
        "        [.5 for _ in range(CHANNELS_IMG)]\n",
        "     )\n",
        "    ]\n",
        ")"
      ],
      "metadata": {
        "id": "uRANiOny3Vw1"
      },
      "execution_count": null,
      "outputs": []
    },
    {
      "cell_type": "code",
      "source": [
        "dataset = datasets.MNIST(root='dataset/', transform=transforms, download=True)\n",
        "loader = DataLoader(dataset, batch_size=BATCH_SIZE, shuffle=True)"
      ],
      "metadata": {
        "id": "_FaOAbm-7azQ"
      },
      "execution_count": null,
      "outputs": []
    },
    {
      "cell_type": "code",
      "source": [
        "class Discriminator(nn.Module):\n",
        "  def __init__(self, channels_img, features_d):\n",
        "    super(Discriminator, self).__init__()\n",
        "    self.disc = nn.Sequential(\n",
        "        nn.Conv2d(\n",
        "            channels_img, features_d, kernel_size=4, stride=2, padding=1\n",
        "        ),\n",
        "        nn.LeakyReLU(.2),\n",
        "        self._block(features_d, features_d * 2, 4, 2, 1),\n",
        "        self._block(features_d * 2, features_d * 4, 4, 2, 1),\n",
        "        self._block(features_d * 4, features_d * 8, 4, 2, 1),\n",
        "        nn.Conv2d(features_d * 8, 1, kernel_size=4, stride=2, padding=0)\n",
        "    )\n",
        "  \n",
        "  def _block(self, in_channels, out_channels, kernel_size, stride, padding):\n",
        "    return nn.Sequential(\n",
        "        nn.Conv2d(\n",
        "            in_channels,\n",
        "            out_channels,\n",
        "            kernel_size,\n",
        "            stride,\n",
        "            padding,\n",
        "            bias=False\n",
        "        ),\n",
        "        nn.InstanceNorm2d(out_channels, affine=True),\n",
        "        nn.LeakyReLU(.2)\n",
        "    )\n",
        "\n",
        "    def forward(self, x):\n",
        "      return self.disc(x)"
      ],
      "metadata": {
        "id": "-ko7_TcM7r1c"
      },
      "execution_count": null,
      "outputs": []
    },
    {
      "cell_type": "code",
      "source": [
        "class Generator(nn.Module):\n",
        "  def __init__(self, channels_noise, channels_img, features_g):\n",
        "    super(Generator, self).__init()\n",
        "    self.net = nn.Sequential(\n",
        "        self._block(channels_noise, features_g * 16, 4, 1, 0),\n",
        "        self._block(channels_noise * 16, features_g * 8, 4, 1, 0),\n",
        "        self._block(channels_noise * 8, features_g * 4, 4, 1, 0),\n",
        "        self._block(channels_noise * 4, features_g * 2, 4, 1, 0),\n",
        "        nn.ConvTranspose2d(\n",
        "            features_g * 2, channels_img, kernel_size=4, stride=2, padding=1\n",
        "        ),\n",
        "        nn.Tanh(),\n",
        "    )\n",
        "  \n",
        "  def _block(self, in_channels, out_channels, kernel_size, stride, padding):\n",
        "    return nn.Sequential(\n",
        "        nn.ConvTranspose2d(\n",
        "            in_channels,\n",
        "            out_channels,\n",
        "            kernel_size,\n",
        "            stride,\n",
        "            padding,\n",
        "            bias=False\n",
        "        ),\n",
        "        nn.BatchNorm2d(out_channels),\n",
        "        nn.ReLU()\n",
        "    )\n",
        "  \n",
        "  def forward(self, x):\n",
        "    return self.net(x)"
      ],
      "metadata": {
        "id": "hvNfQ2j6YHuf"
      },
      "execution_count": null,
      "outputs": []
    },
    {
      "cell_type": "code",
      "source": [],
      "metadata": {
        "id": "s99yi8ZoaEPs"
      },
      "execution_count": null,
      "outputs": []
    }
  ]
}